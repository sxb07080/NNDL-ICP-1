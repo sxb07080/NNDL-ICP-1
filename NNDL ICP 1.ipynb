{
 "cells": [
  {
   "cell_type": "code",
   "execution_count": null,
   "id": "initial_id",
   "metadata": {
    "collapsed": true
   },
   "outputs": [],
   "source": [
    "\"\"\"\n",
    "Spring 2024: CS5720\n",
    "Neural Networks & Deep Learning - ICP-1\n",
    "Author : Bandari Swetha\n",
    "700#: 700740708\n",
    "\"\"\""
   ]
  },
  {
   "cell_type": "code",
   "execution_count": 4,
   "outputs": [
    {
     "name": "stdout",
     "output_type": "stream",
     "text": [
      "Given input string is: python\n",
      "Modified and reversed string: htyp\n"
     ]
    }
   ],
   "source": [
    "\"\"\"\n",
    "Problem 1(a): Input the string “Python” as a list of characters from console, delete at least 2 characters, reverse the resultant string and print it.\n",
    "\"\"\"\n",
    "\n",
    "def modify_string(input_string):\n",
    "    # Delete at least 2 characters from the input_string\n",
    "    modified_string = input_string[:-2]\n",
    "    # Reverse the modifies_string\n",
    "    reversed_string = ''.join(modified_string[::-1])\n",
    "    return reversed_string\n",
    "\n",
    "# User input as a list of characters\n",
    "input_string = list(input(\"Enter the string: \"))\n",
    "\n",
    "# Using if condition to check the length of the string\n",
    "if len(input_string) < 2:\n",
    "    print(\"Invalid input string!\")\n",
    "else:\n",
    "    # Converting list to string \n",
    "    string = ''.join(input_string)\n",
    "    print(\"Given input string is:\", string)\n",
    "    # Calling modify_string function with input_string\n",
    "    result = modify_string(input_string)\n",
    "    print(\"Modified and reversed string:\", result)\n",
    "    "
   ],
   "metadata": {
    "collapsed": false,
    "ExecuteTime": {
     "end_time": "2024-01-15T20:55:20.861453Z",
     "start_time": "2024-01-15T20:55:17.858317Z"
    }
   },
   "id": "5ad3d6510090a115"
  },
  {
   "cell_type": "code",
   "execution_count": 5,
   "outputs": [
    {
     "name": "stdout",
     "output_type": "stream",
     "text": [
      "Results of arithmetic operation on given inputs 8.0 and 2.0: \n",
      "Addition: 10.0\n",
      "Subtraction: 6.0\n",
      "Multiplication: 16.0\n",
      "Division: 4.0\n"
     ]
    }
   ],
   "source": [
    "\"\"\"\n",
    "Problem 1(b): Take two numbers from user and perform at least 4 arithmetic operations on them.\n",
    "\"\"\"\n",
    "\n",
    "# Using a try-except block to get user inputs\n",
    "try:\n",
    "    a = float(input(\"Enter first number: \"))\n",
    "    b = float(input(\"Enter second number: \"))\n",
    "except ValueError:\n",
    "    # Error message if the input is not a numeric value\n",
    "    print(\"Invalid input. Please enter numbers only\")\n",
    "    exit()\n",
    "\n",
    "# Performing 4 arithmetic operations\n",
    "add = a + b\n",
    "sub = a - b\n",
    "mul = a * b\n",
    "# Initializing division result to None\n",
    "div = None\n",
    "# If condition to check the denominator is not 0\n",
    "if b!=0:\n",
    "    div = a / b\n",
    "else:\n",
    "    print(\"Cannot divide by zero!\")\n",
    "\n",
    "print(f\"Results of arithmetic operation on given inputs {a} and {b}: \")\n",
    "print(f\"Addition: {add}\")\n",
    "print(f\"Subtraction: {sub}\")\n",
    "print(f\"Multiplication: {mul}\")\n",
    "# If condition to check division results is defined\n",
    "if div is not None:\n",
    "    print(f\"Division: {div}\")\n"
   ],
   "metadata": {
    "collapsed": false,
    "ExecuteTime": {
     "end_time": "2024-01-15T20:56:39.343133Z",
     "start_time": "2024-01-15T20:56:30.156399Z"
    }
   },
   "id": "7340274bca29e28"
  },
  {
   "cell_type": "code",
   "execution_count": 6,
   "outputs": [
    {
     "name": "stdout",
     "output_type": "stream",
     "text": [
      "Given input sentence: i love playing with python\n",
      "Modified sentence: i love playing with pythons\n"
     ]
    }
   ],
   "source": [
    "\"\"\"\n",
    "Problem 2: Write a program that accepts a sentence and replace each occurrence of ‘python’ with ‘pythons’.\n",
    "\"\"\"\n",
    "\n",
    "def modify_sentence(input_sentence):\n",
    "    # Replace 'python' with 'pythons'\n",
    "    modified_sentence = input_sentence.replace('python', 'pythons')\n",
    "    return modified_sentence\n",
    "\n",
    "sentence = input(\"Enter a sentence with the word 'python' in it: \")\n",
    "\n",
    "# Check if the word 'python' exists in the input. Input is case-insensitive\n",
    "if 'python' in sentence.lower():\n",
    "    print(f\"Given input sentence:\", sentence)\n",
    "    # Calling modify_sentence function with input sentence\n",
    "    result = modify_sentence(sentence)\n",
    "    print(\"Modified sentence:\", result)\n",
    "else:\n",
    "    print(\"Invalid sentence! The word 'python' is not found in the input\")\n"
   ],
   "metadata": {
    "collapsed": false,
    "ExecuteTime": {
     "end_time": "2024-01-15T20:58:02.174286Z",
     "start_time": "2024-01-15T20:57:50.170855Z"
    }
   },
   "id": "1463425ccbace541"
  },
  {
   "cell_type": "code",
   "execution_count": 7,
   "outputs": [
    {
     "name": "stdout",
     "output_type": "stream",
     "text": [
      "Letter grade based on class score 98.0 is: A Grade \n"
     ]
    }
   ],
   "source": [
    "\"\"\"\n",
    "Problem 3: Use the if statement conditions to write a program to print the letter grade based on an input class score. Use the\n",
    "grading scheme we are using in this class.\n",
    "\"\"\"\n",
    "\n",
    "def grading_scale(score):\n",
    "    # Using if statement conditions to check score ranges for different grades\n",
    "    if 90 <= score <= 100:\n",
    "        return \"A Grade\"\n",
    "    elif 80 <= score <= 89:\n",
    "        return \"B Grade\"\n",
    "    elif 70 <= score <= 79:\n",
    "        return \"C Grade\"\n",
    "    elif 60 <= score <= 69:\n",
    "        return \"D Grade\"\n",
    "    elif 0 <= score <= 59:\n",
    "        return \"F Grade\"\n",
    "    else:\n",
    "        print(\"Invalid score! Please enter a score between 0 and 100\")\n",
    "\n",
    "# Using try-except block to get user input for class score\n",
    "try:\n",
    "    class_score = float(input(\"Enter class score: \"))\n",
    "    # Calling grading_scale function with class_score input\n",
    "    grade = grading_scale(class_score)\n",
    "    print(f\"Letter grade based on class score {class_score} is: {grade} \")\n",
    "except ValueError:\n",
    "    # Error message if the input is not a numeric value\n",
    "    print(\"Invalid input. Please enter numbers only\")\n",
    "    exit()\n"
   ],
   "metadata": {
    "collapsed": false,
    "ExecuteTime": {
     "end_time": "2024-01-15T20:58:33.294454Z",
     "start_time": "2024-01-15T20:58:30.637032Z"
    }
   },
   "id": "6e9fe7d4e6c3606f"
  },
  {
   "cell_type": "code",
   "execution_count": null,
   "outputs": [],
   "source": [
    " "
   ],
   "metadata": {
    "collapsed": false
   },
   "id": "c55fd7d4d52c41e6"
  }
 ],
 "metadata": {
  "kernelspec": {
   "display_name": "Python 3",
   "language": "python",
   "name": "python3"
  },
  "language_info": {
   "codemirror_mode": {
    "name": "ipython",
    "version": 2
   },
   "file_extension": ".py",
   "mimetype": "text/x-python",
   "name": "python",
   "nbconvert_exporter": "python",
   "pygments_lexer": "ipython2",
   "version": "2.7.6"
  }
 },
 "nbformat": 4,
 "nbformat_minor": 5
}
